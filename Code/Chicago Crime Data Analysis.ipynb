{
 "cells": [
  {
   "cell_type": "markdown",
   "id": "0ee4a95b",
   "metadata": {},
   "source": [
    "# Chicago Crime Data Analysis"
   ]
  },
  {
   "cell_type": "markdown",
   "id": "a0a7e70d",
   "metadata": {},
   "source": [
    "> This is by us. Handling crime data of Chicago from 2001 to 2017"
   ]
  },
  {
   "cell_type": "markdown",
   "id": "7705ccab",
   "metadata": {},
   "source": [
    "## Import packages"
   ]
  },
  {
   "cell_type": "code",
   "execution_count": null,
   "id": "01084080",
   "metadata": {},
   "outputs": [],
   "source": [
    "import numpy as np\n",
    "import matplotlib.pyplot as plt\n",
    "import pandas as pd"
   ]
  },
  {
   "cell_type": "markdown",
   "id": "512f73a8",
   "metadata": {},
   "source": [
    "## Reading Data"
   ]
  },
  {
   "cell_type": "code",
   "execution_count": null,
   "id": "f1d8f069",
   "metadata": {},
   "outputs": [],
   "source": [
    "Crime_2001_to_2004 = pd.read_csv(\"../Data/Crimes in Chicago_An extensive dataset of crimes in Chicago (2001-2017), by City of Chicago/Chicago_Crimes_2001_to_2004.csv\", error_bad_lines=False)\n",
    "Crime_2005_to_2007 = pd.read_csv(\"../Data/Crimes in Chicago_An extensive dataset of crimes in Chicago (2001-2017), by City of Chicago/Chicago_Crimes_2005_to_2007.csv\", error_bad_lines=False)\n",
    "Crime_2008_to_2011 = pd.read_csv(\"../Data/Crimes in Chicago_An extensive dataset of crimes in Chicago (2001-2017), by City of Chicago/Chicago_Crimes_2008_to_2011.csv\", error_bad_lines=False)\n",
    "Crime_2012_to_2017 = pd.read_csv(\"../Data/Crimes in Chicago_An extensive dataset of crimes in Chicago (2001-2017), by City of Chicago/Chicago_Crimes_2012_to_2017.csv\", error_bad_lines=False)"
   ]
  },
  {
   "cell_type": "code",
   "execution_count": null,
   "id": "69de2283",
   "metadata": {},
   "outputs": [],
   "source": [
    "print(Crime_2001_to_2004.columns)\n",
    "Crime_2001_to_2004.head()"
   ]
  },
  {
   "cell_type": "markdown",
   "id": "f75ea296",
   "metadata": {},
   "source": [
    "### ERROR\n",
    "\n",
    "When trying to read data with\n",
    "\n",
    "`Crime_2001_to_2004 = pd.read_csv(\"../Data/Crimes in Chicago_An extensive dataset of crimes in Chicago (2001-2017), by City of Chicago/Chicago_Crimes_2001_to_2004.csv\")`\n",
    "\n",
    "Got an Error that goes like:\n",
    "\n",
    "> ParserError: Error tokenizing data. C error: Expected 23 fields in line 1513591, saw 24\n",
    "\n",
    "The solution is:\n",
    "\n",
    "`Crime_2001_to_2004 = pd.read_csv(\"../Data/Crimes in Chicago_An extensive dataset of crimes in Chicago (2001-2017), by City of Chicago/Chicago_Crimes_2001_to_2004.csv\", error_bad_lines=False)`\n",
    "\n",
    "So now it works:\n",
    "\n",
    "> b'Skipping line 1513591: expected 23 fields, saw 24\\n'\n",
    "/home/hanpeng/anaconda3/lib/python3.8/site-packages/IPython/core/interactiveshell.py:3165: DtypeWarning: Columns (17,20) have mixed types.Specify dtype option on import or set low_memory=False.\n",
    "  has_raised = await self.run_ast_nodes(code_ast.body, cell_name,\n",
    "\n",
    "The reason being:\n",
    "\n",
    "> 读取文件时遇到和列数不对应的行，此时会报错。若报错行可以忽略，则添加该参数\n",
    "> When the column number of one line doesn't met the header row's"
   ]
  },
  {
   "cell_type": "code",
   "execution_count": null,
   "id": "814cd68e",
   "metadata": {},
   "outputs": [],
   "source": []
  }
 ],
 "metadata": {
  "kernelspec": {
   "display_name": "Python 3",
   "language": "python",
   "name": "python3"
  },
  "language_info": {
   "codemirror_mode": {
    "name": "ipython",
    "version": 3
   },
   "file_extension": ".py",
   "mimetype": "text/x-python",
   "name": "python",
   "nbconvert_exporter": "python",
   "pygments_lexer": "ipython3",
   "version": "3.8.8"
  }
 },
 "nbformat": 4,
 "nbformat_minor": 5
}
