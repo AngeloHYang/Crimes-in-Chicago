{
 "cells": [
  {
   "cell_type": "markdown",
   "id": "0ee4a95b",
   "metadata": {},
   "source": [
    "# Chicago Crime Theft Data Analysis"
   ]
  },
  {
   "cell_type": "markdown",
   "id": "a0a7e70d",
   "metadata": {},
   "source": [
    "> This is by us. Handling crime data of Chicago from 2001 to 2017\n",
    "\n",
    "> Thanks to These projects:\n",
    "> - https://www.kaggle.com/fahd09/eda-of-crime-in-chicago-2005-2016\n",
    "> - 朱小波, 李昕, 叶信岳. 数据关联背景下芝加哥市一般盗窃案件的多维度分析[J]. 犯罪研究, 2018(4):10."
   ]
  },
  {
   "cell_type": "markdown",
   "id": "7705ccab",
   "metadata": {},
   "source": [
    "## Importing Data"
   ]
  },
  {
   "cell_type": "code",
   "execution_count": 1,
   "id": "01084080",
   "metadata": {},
   "outputs": [],
   "source": [
    "import numpy as np\n",
    "import matplotlib.pyplot as plt\n",
    "import pandas as pd\n",
    "import gc\n",
    "from datetime import datetime"
   ]
  },
  {
   "cell_type": "code",
   "execution_count": 2,
   "id": "f1d8f069",
   "metadata": {},
   "outputs": [
    {
     "name": "stderr",
     "output_type": "stream",
     "text": [
      "b'Skipping line 1513591: expected 23 fields, saw 24\\n'\n",
      "/home/hanpeng/anaconda3/lib/python3.8/site-packages/IPython/core/interactiveshell.py:3165: DtypeWarning: Columns (17,20) have mixed types.Specify dtype option on import or set low_memory=False.\n",
      "  has_raised = await self.run_ast_nodes(code_ast.body, cell_name,\n",
      "b'Skipping line 533719: expected 23 fields, saw 24\\n'\n",
      "b'Skipping line 1149094: expected 23 fields, saw 41\\n'\n"
     ]
    }
   ],
   "source": [
    "Crime_2001_to_2004 = pd.read_csv(\"../Data/Crimes in Chicago_An extensive dataset of crimes in Chicago (2001-2017), by City of Chicago/Chicago_Crimes_2001_to_2004.csv\", error_bad_lines=False)\n",
    "Crime_2005_to_2007 = pd.read_csv(\"../Data/Crimes in Chicago_An extensive dataset of crimes in Chicago (2001-2017), by City of Chicago/Chicago_Crimes_2005_to_2007.csv\", error_bad_lines=False)\n",
    "Crime_2008_to_2011 = pd.read_csv(\"../Data/Crimes in Chicago_An extensive dataset of crimes in Chicago (2001-2017), by City of Chicago/Chicago_Crimes_2008_to_2011.csv\", error_bad_lines=False)\n",
    "Crime_2012_to_2017 = pd.read_csv(\"../Data/Crimes in Chicago_An extensive dataset of crimes in Chicago (2001-2017), by City of Chicago/Chicago_Crimes_2012_to_2017.csv\", error_bad_lines=False)"
   ]
  },
  {
   "cell_type": "code",
   "execution_count": 3,
   "id": "69de2283",
   "metadata": {},
   "outputs": [
    {
     "name": "stdout",
     "output_type": "stream",
     "text": [
      "Index(['Unnamed: 0', 'ID', 'Case Number', 'Date', 'Block', 'IUCR',\n",
      "       'Primary Type', 'Description', 'Location Description', 'Arrest',\n",
      "       'Domestic', 'Beat', 'District', 'Ward', 'Community Area', 'FBI Code',\n",
      "       'X Coordinate', 'Y Coordinate', 'Year', 'Updated On', 'Latitude',\n",
      "       'Longitude', 'Location'],\n",
      "      dtype='object')\n"
     ]
    },
    {
     "data": {
      "text/html": [
       "<div>\n",
       "<style scoped>\n",
       "    .dataframe tbody tr th:only-of-type {\n",
       "        vertical-align: middle;\n",
       "    }\n",
       "\n",
       "    .dataframe tbody tr th {\n",
       "        vertical-align: top;\n",
       "    }\n",
       "\n",
       "    .dataframe thead th {\n",
       "        text-align: right;\n",
       "    }\n",
       "</style>\n",
       "<table border=\"1\" class=\"dataframe\">\n",
       "  <thead>\n",
       "    <tr style=\"text-align: right;\">\n",
       "      <th></th>\n",
       "      <th>Unnamed: 0</th>\n",
       "      <th>ID</th>\n",
       "      <th>Case Number</th>\n",
       "      <th>Date</th>\n",
       "      <th>Block</th>\n",
       "      <th>IUCR</th>\n",
       "      <th>Primary Type</th>\n",
       "      <th>Description</th>\n",
       "      <th>Location Description</th>\n",
       "      <th>Arrest</th>\n",
       "      <th>...</th>\n",
       "      <th>Ward</th>\n",
       "      <th>Community Area</th>\n",
       "      <th>FBI Code</th>\n",
       "      <th>X Coordinate</th>\n",
       "      <th>Y Coordinate</th>\n",
       "      <th>Year</th>\n",
       "      <th>Updated On</th>\n",
       "      <th>Latitude</th>\n",
       "      <th>Longitude</th>\n",
       "      <th>Location</th>\n",
       "    </tr>\n",
       "  </thead>\n",
       "  <tbody>\n",
       "    <tr>\n",
       "      <th>0</th>\n",
       "      <td>879</td>\n",
       "      <td>4786321</td>\n",
       "      <td>HM399414</td>\n",
       "      <td>01/01/2004 12:01:00 AM</td>\n",
       "      <td>082XX S COLES AVE</td>\n",
       "      <td>0840</td>\n",
       "      <td>THEFT</td>\n",
       "      <td>FINANCIAL ID THEFT: OVER $300</td>\n",
       "      <td>RESIDENCE</td>\n",
       "      <td>False</td>\n",
       "      <td>...</td>\n",
       "      <td>7.0</td>\n",
       "      <td>46.0</td>\n",
       "      <td>06</td>\n",
       "      <td>NaN</td>\n",
       "      <td>NaN</td>\n",
       "      <td>2004.0</td>\n",
       "      <td>08/17/2015 03:03:40 PM</td>\n",
       "      <td>NaN</td>\n",
       "      <td>NaN</td>\n",
       "      <td>NaN</td>\n",
       "    </tr>\n",
       "    <tr>\n",
       "      <th>1</th>\n",
       "      <td>2544</td>\n",
       "      <td>4676906</td>\n",
       "      <td>HM278933</td>\n",
       "      <td>03/01/2003 12:00:00 AM</td>\n",
       "      <td>004XX W 42ND PL</td>\n",
       "      <td>2825</td>\n",
       "      <td>OTHER OFFENSE</td>\n",
       "      <td>HARASSMENT BY TELEPHONE</td>\n",
       "      <td>RESIDENCE</td>\n",
       "      <td>False</td>\n",
       "      <td>...</td>\n",
       "      <td>11.0</td>\n",
       "      <td>61.0</td>\n",
       "      <td>26</td>\n",
       "      <td>1173974.0</td>\n",
       "      <td>1876757.0</td>\n",
       "      <td>2003.0</td>\n",
       "      <td>04/15/2016 08:55:02 AM</td>\n",
       "      <td>41.817229</td>\n",
       "      <td>-87.637328</td>\n",
       "      <td>(41.817229156, -87.637328162)</td>\n",
       "    </tr>\n",
       "    <tr>\n",
       "      <th>2</th>\n",
       "      <td>2919</td>\n",
       "      <td>4789749</td>\n",
       "      <td>HM402220</td>\n",
       "      <td>06/20/2004 11:00:00 AM</td>\n",
       "      <td>025XX N KIMBALL AVE</td>\n",
       "      <td>1752</td>\n",
       "      <td>OFFENSE INVOLVING CHILDREN</td>\n",
       "      <td>AGG CRIM SEX ABUSE FAM MEMBER</td>\n",
       "      <td>RESIDENCE</td>\n",
       "      <td>False</td>\n",
       "      <td>...</td>\n",
       "      <td>35.0</td>\n",
       "      <td>22.0</td>\n",
       "      <td>20</td>\n",
       "      <td>NaN</td>\n",
       "      <td>NaN</td>\n",
       "      <td>2004.0</td>\n",
       "      <td>08/17/2015 03:03:40 PM</td>\n",
       "      <td>NaN</td>\n",
       "      <td>NaN</td>\n",
       "      <td>NaN</td>\n",
       "    </tr>\n",
       "    <tr>\n",
       "      <th>3</th>\n",
       "      <td>2927</td>\n",
       "      <td>4789765</td>\n",
       "      <td>HM402058</td>\n",
       "      <td>12/30/2004 08:00:00 PM</td>\n",
       "      <td>045XX W MONTANA ST</td>\n",
       "      <td>0840</td>\n",
       "      <td>THEFT</td>\n",
       "      <td>FINANCIAL ID THEFT: OVER $300</td>\n",
       "      <td>OTHER</td>\n",
       "      <td>False</td>\n",
       "      <td>...</td>\n",
       "      <td>31.0</td>\n",
       "      <td>20.0</td>\n",
       "      <td>06</td>\n",
       "      <td>NaN</td>\n",
       "      <td>NaN</td>\n",
       "      <td>2004.0</td>\n",
       "      <td>08/17/2015 03:03:40 PM</td>\n",
       "      <td>NaN</td>\n",
       "      <td>NaN</td>\n",
       "      <td>NaN</td>\n",
       "    </tr>\n",
       "    <tr>\n",
       "      <th>4</th>\n",
       "      <td>3302</td>\n",
       "      <td>4677901</td>\n",
       "      <td>HM275615</td>\n",
       "      <td>05/01/2003 01:00:00 AM</td>\n",
       "      <td>111XX S NORMAL AVE</td>\n",
       "      <td>0841</td>\n",
       "      <td>THEFT</td>\n",
       "      <td>FINANCIAL ID THEFT:$300 &amp;UNDER</td>\n",
       "      <td>RESIDENCE</td>\n",
       "      <td>False</td>\n",
       "      <td>...</td>\n",
       "      <td>34.0</td>\n",
       "      <td>49.0</td>\n",
       "      <td>06</td>\n",
       "      <td>1174948.0</td>\n",
       "      <td>1831051.0</td>\n",
       "      <td>2003.0</td>\n",
       "      <td>04/15/2016 08:55:02 AM</td>\n",
       "      <td>41.691785</td>\n",
       "      <td>-87.635116</td>\n",
       "      <td>(41.691784636, -87.635115968)</td>\n",
       "    </tr>\n",
       "  </tbody>\n",
       "</table>\n",
       "<p>5 rows × 23 columns</p>\n",
       "</div>"
      ],
      "text/plain": [
       "   Unnamed: 0       ID Case Number                    Date  \\\n",
       "0         879  4786321    HM399414  01/01/2004 12:01:00 AM   \n",
       "1        2544  4676906    HM278933  03/01/2003 12:00:00 AM   \n",
       "2        2919  4789749    HM402220  06/20/2004 11:00:00 AM   \n",
       "3        2927  4789765    HM402058  12/30/2004 08:00:00 PM   \n",
       "4        3302  4677901    HM275615  05/01/2003 01:00:00 AM   \n",
       "\n",
       "                 Block  IUCR                Primary Type  \\\n",
       "0    082XX S COLES AVE  0840                       THEFT   \n",
       "1      004XX W 42ND PL  2825               OTHER OFFENSE   \n",
       "2  025XX N KIMBALL AVE  1752  OFFENSE INVOLVING CHILDREN   \n",
       "3   045XX W MONTANA ST  0840                       THEFT   \n",
       "4   111XX S NORMAL AVE  0841                       THEFT   \n",
       "\n",
       "                      Description Location Description  Arrest  ...  Ward  \\\n",
       "0   FINANCIAL ID THEFT: OVER $300            RESIDENCE   False  ...   7.0   \n",
       "1         HARASSMENT BY TELEPHONE            RESIDENCE   False  ...  11.0   \n",
       "2   AGG CRIM SEX ABUSE FAM MEMBER            RESIDENCE   False  ...  35.0   \n",
       "3   FINANCIAL ID THEFT: OVER $300                OTHER   False  ...  31.0   \n",
       "4  FINANCIAL ID THEFT:$300 &UNDER            RESIDENCE   False  ...  34.0   \n",
       "\n",
       "   Community Area  FBI Code  X Coordinate  Y Coordinate    Year  \\\n",
       "0            46.0        06           NaN           NaN  2004.0   \n",
       "1            61.0        26     1173974.0     1876757.0  2003.0   \n",
       "2            22.0        20           NaN           NaN  2004.0   \n",
       "3            20.0        06           NaN           NaN  2004.0   \n",
       "4            49.0        06     1174948.0     1831051.0  2003.0   \n",
       "\n",
       "               Updated On   Latitude  Longitude                       Location  \n",
       "0  08/17/2015 03:03:40 PM        NaN        NaN                            NaN  \n",
       "1  04/15/2016 08:55:02 AM  41.817229 -87.637328  (41.817229156, -87.637328162)  \n",
       "2  08/17/2015 03:03:40 PM        NaN        NaN                            NaN  \n",
       "3  08/17/2015 03:03:40 PM        NaN        NaN                            NaN  \n",
       "4  04/15/2016 08:55:02 AM  41.691785 -87.635116  (41.691784636, -87.635115968)  \n",
       "\n",
       "[5 rows x 23 columns]"
      ]
     },
     "execution_count": 3,
     "metadata": {},
     "output_type": "execute_result"
    }
   ],
   "source": [
    "print(Crime_2001_to_2004.columns)\n",
    "Crime_2001_to_2004.head()"
   ]
  },
  {
   "cell_type": "markdown",
   "id": "f75ea296",
   "metadata": {},
   "source": [
    "### ERROR\n",
    "\n",
    "When trying to read data with\n",
    "\n",
    "`Crime_2001_to_2004 = pd.read_csv(\"../Data/Crimes in Chicago_An extensive dataset of crimes in Chicago (2001-2017), by City of Chicago/Chicago_Crimes_2001_to_2004.csv\")`\n",
    "\n",
    "Got an Error that goes like:\n",
    "\n",
    "> ParserError: Error tokenizing data. C error: Expected 23 fields in line 1513591, saw 24\n",
    "\n",
    "The solution is:\n",
    "\n",
    "`Crime_2001_to_2004 = pd.read_csv(\"../Data/Crimes in Chicago_An extensive dataset of crimes in Chicago (2001-2017), by City of Chicago/Chicago_Crimes_2001_to_2004.csv\", error_bad_lines=False)`\n",
    "\n",
    "So now it works:\n",
    "\n",
    "> b'Skipping line 1513591: expected 23 fields, saw 24\\n'\n",
    "/home/hanpeng/anaconda3/lib/python3.8/site-packages/IPython/core/interactiveshell.py:3165: DtypeWarning: Columns (17,20) have mixed types.Specify dtype option on import or set low_memory=False.\n",
    "  has_raised = await self.run_ast_nodes(code_ast.body, cell_name,\n",
    "\n",
    "The reason being:\n",
    "\n",
    "> 读取文件时遇到和列数不对应的行，此时会报错。若报错行可以忽略，则添加该参数\n",
    "> When the column number of one line doesn't met the header row's"
   ]
  },
  {
   "cell_type": "markdown",
   "id": "cfecb714",
   "metadata": {},
   "source": [
    "### Data Combination\n",
    "\n",
    "> To Combine the four files' data into one\n",
    "> \n",
    "> gc.collect() to guarentee to save RAM"
   ]
  },
  {
   "cell_type": "code",
   "execution_count": 4,
   "id": "7dfd1611",
   "metadata": {},
   "outputs": [
    {
     "data": {
      "text/plain": [
       "15"
      ]
     },
     "execution_count": 4,
     "metadata": {},
     "output_type": "execute_result"
    }
   ],
   "source": [
    "Crime_Data_backup = pd.concat([Crime_2001_to_2004, Crime_2005_to_2007, Crime_2008_to_2011, Crime_2012_to_2017])\n",
    "del Crime_2001_to_2004\n",
    "del Crime_2005_to_2007\n",
    "del Crime_2008_to_2011\n",
    "del Crime_2012_to_2017\n",
    "gc.collect()"
   ]
  },
  {
   "cell_type": "markdown",
   "id": "21360ec6",
   "metadata": {},
   "source": [
    "Copy the data so you can do whatever you want to Crime_data without messing with Crime_Data_backup. If something came up, you can easily restore it."
   ]
  },
  {
   "cell_type": "code",
   "execution_count": 5,
   "id": "45a78780",
   "metadata": {},
   "outputs": [],
   "source": [
    "Crime_data = Crime_Data_backup.copy()"
   ]
  },
  {
   "cell_type": "code",
   "execution_count": 6,
   "id": "76d7d050",
   "metadata": {},
   "outputs": [
    {
     "name": "stdout",
     "output_type": "stream",
     "text": [
      "Crime_data loaded!\n"
     ]
    }
   ],
   "source": [
    "print('Crime_data loaded!')"
   ]
  },
  {
   "cell_type": "markdown",
   "id": "1094e238",
   "metadata": {},
   "source": [
    "### Dropping Duplicated ones"
   ]
  },
  {
   "cell_type": "markdown",
   "id": "9301226e",
   "metadata": {},
   "source": [
    "What makes two cases duplicated?"
   ]
  },
  {
   "cell_type": "markdown",
   "id": "9c79f101",
   "metadata": {},
   "source": [
    "- Could it be case number?"
   ]
  },
  {
   "cell_type": "code",
   "execution_count": 7,
   "id": "68ace1c7",
   "metadata": {},
   "outputs": [
    {
     "data": {
      "text/html": [
       "<div>\n",
       "<style scoped>\n",
       "    .dataframe tbody tr th:only-of-type {\n",
       "        vertical-align: middle;\n",
       "    }\n",
       "\n",
       "    .dataframe tbody tr th {\n",
       "        vertical-align: top;\n",
       "    }\n",
       "\n",
       "    .dataframe thead th {\n",
       "        text-align: right;\n",
       "    }\n",
       "</style>\n",
       "<table border=\"1\" class=\"dataframe\">\n",
       "  <thead>\n",
       "    <tr style=\"text-align: right;\">\n",
       "      <th></th>\n",
       "      <th>Unnamed: 0</th>\n",
       "      <th>ID</th>\n",
       "      <th>Date</th>\n",
       "      <th>Block</th>\n",
       "      <th>IUCR</th>\n",
       "      <th>Primary Type</th>\n",
       "      <th>Description</th>\n",
       "      <th>Location Description</th>\n",
       "      <th>Arrest</th>\n",
       "      <th>Domestic</th>\n",
       "      <th>...</th>\n",
       "      <th>Ward</th>\n",
       "      <th>Community Area</th>\n",
       "      <th>FBI Code</th>\n",
       "      <th>X Coordinate</th>\n",
       "      <th>Y Coordinate</th>\n",
       "      <th>Year</th>\n",
       "      <th>Updated On</th>\n",
       "      <th>Latitude</th>\n",
       "      <th>Longitude</th>\n",
       "      <th>Location</th>\n",
       "    </tr>\n",
       "    <tr>\n",
       "      <th>Case Number</th>\n",
       "      <th></th>\n",
       "      <th></th>\n",
       "      <th></th>\n",
       "      <th></th>\n",
       "      <th></th>\n",
       "      <th></th>\n",
       "      <th></th>\n",
       "      <th></th>\n",
       "      <th></th>\n",
       "      <th></th>\n",
       "      <th></th>\n",
       "      <th></th>\n",
       "      <th></th>\n",
       "      <th></th>\n",
       "      <th></th>\n",
       "      <th></th>\n",
       "      <th></th>\n",
       "      <th></th>\n",
       "      <th></th>\n",
       "      <th></th>\n",
       "      <th></th>\n",
       "    </tr>\n",
       "  </thead>\n",
       "  <tbody>\n",
       "    <tr>\n",
       "      <th>01G050460</th>\n",
       "      <td>2</td>\n",
       "      <td>2</td>\n",
       "      <td>2</td>\n",
       "      <td>2</td>\n",
       "      <td>2</td>\n",
       "      <td>2</td>\n",
       "      <td>2</td>\n",
       "      <td>2</td>\n",
       "      <td>2</td>\n",
       "      <td>2</td>\n",
       "      <td>...</td>\n",
       "      <td>0</td>\n",
       "      <td>0</td>\n",
       "      <td>2</td>\n",
       "      <td>2</td>\n",
       "      <td>2</td>\n",
       "      <td>2</td>\n",
       "      <td>2</td>\n",
       "      <td>2</td>\n",
       "      <td>2</td>\n",
       "      <td>2</td>\n",
       "    </tr>\n",
       "    <tr>\n",
       "      <th>03J493690</th>\n",
       "      <td>2</td>\n",
       "      <td>2</td>\n",
       "      <td>2</td>\n",
       "      <td>2</td>\n",
       "      <td>2</td>\n",
       "      <td>2</td>\n",
       "      <td>2</td>\n",
       "      <td>2</td>\n",
       "      <td>2</td>\n",
       "      <td>2</td>\n",
       "      <td>...</td>\n",
       "      <td>2</td>\n",
       "      <td>2</td>\n",
       "      <td>2</td>\n",
       "      <td>0</td>\n",
       "      <td>0</td>\n",
       "      <td>2</td>\n",
       "      <td>2</td>\n",
       "      <td>0</td>\n",
       "      <td>0</td>\n",
       "      <td>0</td>\n",
       "    </tr>\n",
       "    <tr>\n",
       "      <th>04X245238</th>\n",
       "      <td>1</td>\n",
       "      <td>1</td>\n",
       "      <td>1</td>\n",
       "      <td>1</td>\n",
       "      <td>1</td>\n",
       "      <td>1</td>\n",
       "      <td>1</td>\n",
       "      <td>1</td>\n",
       "      <td>1</td>\n",
       "      <td>1</td>\n",
       "      <td>...</td>\n",
       "      <td>1</td>\n",
       "      <td>1</td>\n",
       "      <td>1</td>\n",
       "      <td>1</td>\n",
       "      <td>1</td>\n",
       "      <td>1</td>\n",
       "      <td>1</td>\n",
       "      <td>1</td>\n",
       "      <td>1</td>\n",
       "      <td>1</td>\n",
       "    </tr>\n",
       "    <tr>\n",
       "      <th>07C115980</th>\n",
       "      <td>2</td>\n",
       "      <td>2</td>\n",
       "      <td>2</td>\n",
       "      <td>2</td>\n",
       "      <td>2</td>\n",
       "      <td>2</td>\n",
       "      <td>2</td>\n",
       "      <td>2</td>\n",
       "      <td>2</td>\n",
       "      <td>2</td>\n",
       "      <td>...</td>\n",
       "      <td>2</td>\n",
       "      <td>2</td>\n",
       "      <td>2</td>\n",
       "      <td>2</td>\n",
       "      <td>2</td>\n",
       "      <td>2</td>\n",
       "      <td>2</td>\n",
       "      <td>2</td>\n",
       "      <td>2</td>\n",
       "      <td>2</td>\n",
       "    </tr>\n",
       "    <tr>\n",
       "      <th>07HN36467</th>\n",
       "      <td>2</td>\n",
       "      <td>2</td>\n",
       "      <td>2</td>\n",
       "      <td>2</td>\n",
       "      <td>2</td>\n",
       "      <td>2</td>\n",
       "      <td>2</td>\n",
       "      <td>2</td>\n",
       "      <td>2</td>\n",
       "      <td>2</td>\n",
       "      <td>...</td>\n",
       "      <td>2</td>\n",
       "      <td>2</td>\n",
       "      <td>2</td>\n",
       "      <td>2</td>\n",
       "      <td>2</td>\n",
       "      <td>2</td>\n",
       "      <td>2</td>\n",
       "      <td>2</td>\n",
       "      <td>2</td>\n",
       "      <td>2</td>\n",
       "    </tr>\n",
       "    <tr>\n",
       "      <th>...</th>\n",
       "      <td>...</td>\n",
       "      <td>...</td>\n",
       "      <td>...</td>\n",
       "      <td>...</td>\n",
       "      <td>...</td>\n",
       "      <td>...</td>\n",
       "      <td>...</td>\n",
       "      <td>...</td>\n",
       "      <td>...</td>\n",
       "      <td>...</td>\n",
       "      <td>...</td>\n",
       "      <td>...</td>\n",
       "      <td>...</td>\n",
       "      <td>...</td>\n",
       "      <td>...</td>\n",
       "      <td>...</td>\n",
       "      <td>...</td>\n",
       "      <td>...</td>\n",
       "      <td>...</td>\n",
       "      <td>...</td>\n",
       "      <td>...</td>\n",
       "    </tr>\n",
       "    <tr>\n",
       "      <th>ZZ572583</th>\n",
       "      <td>1</td>\n",
       "      <td>1</td>\n",
       "      <td>1</td>\n",
       "      <td>1</td>\n",
       "      <td>1</td>\n",
       "      <td>1</td>\n",
       "      <td>1</td>\n",
       "      <td>1</td>\n",
       "      <td>1</td>\n",
       "      <td>1</td>\n",
       "      <td>...</td>\n",
       "      <td>1</td>\n",
       "      <td>1</td>\n",
       "      <td>1</td>\n",
       "      <td>1</td>\n",
       "      <td>1</td>\n",
       "      <td>1</td>\n",
       "      <td>1</td>\n",
       "      <td>1</td>\n",
       "      <td>1</td>\n",
       "      <td>1</td>\n",
       "    </tr>\n",
       "    <tr>\n",
       "      <th>ZZ591134</th>\n",
       "      <td>1</td>\n",
       "      <td>1</td>\n",
       "      <td>1</td>\n",
       "      <td>1</td>\n",
       "      <td>1</td>\n",
       "      <td>1</td>\n",
       "      <td>1</td>\n",
       "      <td>1</td>\n",
       "      <td>1</td>\n",
       "      <td>1</td>\n",
       "      <td>...</td>\n",
       "      <td>1</td>\n",
       "      <td>1</td>\n",
       "      <td>1</td>\n",
       "      <td>1</td>\n",
       "      <td>1</td>\n",
       "      <td>1</td>\n",
       "      <td>1</td>\n",
       "      <td>1</td>\n",
       "      <td>1</td>\n",
       "      <td>1</td>\n",
       "    </tr>\n",
       "    <tr>\n",
       "      <th>ZZ696090</th>\n",
       "      <td>1</td>\n",
       "      <td>1</td>\n",
       "      <td>1</td>\n",
       "      <td>1</td>\n",
       "      <td>1</td>\n",
       "      <td>1</td>\n",
       "      <td>1</td>\n",
       "      <td>1</td>\n",
       "      <td>1</td>\n",
       "      <td>1</td>\n",
       "      <td>...</td>\n",
       "      <td>1</td>\n",
       "      <td>1</td>\n",
       "      <td>1</td>\n",
       "      <td>1</td>\n",
       "      <td>1</td>\n",
       "      <td>1</td>\n",
       "      <td>1</td>\n",
       "      <td>1</td>\n",
       "      <td>1</td>\n",
       "      <td>1</td>\n",
       "    </tr>\n",
       "    <tr>\n",
       "      <th>ZZ740108</th>\n",
       "      <td>1</td>\n",
       "      <td>1</td>\n",
       "      <td>1</td>\n",
       "      <td>1</td>\n",
       "      <td>1</td>\n",
       "      <td>1</td>\n",
       "      <td>1</td>\n",
       "      <td>1</td>\n",
       "      <td>1</td>\n",
       "      <td>1</td>\n",
       "      <td>...</td>\n",
       "      <td>1</td>\n",
       "      <td>1</td>\n",
       "      <td>1</td>\n",
       "      <td>1</td>\n",
       "      <td>1</td>\n",
       "      <td>1</td>\n",
       "      <td>1</td>\n",
       "      <td>1</td>\n",
       "      <td>1</td>\n",
       "      <td>1</td>\n",
       "    </tr>\n",
       "    <tr>\n",
       "      <th>ZZZ199957</th>\n",
       "      <td>2</td>\n",
       "      <td>2</td>\n",
       "      <td>2</td>\n",
       "      <td>2</td>\n",
       "      <td>2</td>\n",
       "      <td>2</td>\n",
       "      <td>2</td>\n",
       "      <td>2</td>\n",
       "      <td>2</td>\n",
       "      <td>2</td>\n",
       "      <td>...</td>\n",
       "      <td>2</td>\n",
       "      <td>2</td>\n",
       "      <td>2</td>\n",
       "      <td>2</td>\n",
       "      <td>2</td>\n",
       "      <td>2</td>\n",
       "      <td>2</td>\n",
       "      <td>2</td>\n",
       "      <td>2</td>\n",
       "      <td>2</td>\n",
       "    </tr>\n",
       "  </tbody>\n",
       "</table>\n",
       "<p>6170472 rows × 22 columns</p>\n",
       "</div>"
      ],
      "text/plain": [
       "             Unnamed: 0  ID  Date  Block  IUCR  Primary Type  Description  \\\n",
       "Case Number                                                                 \n",
       "01G050460             2   2     2      2     2             2            2   \n",
       "03J493690             2   2     2      2     2             2            2   \n",
       "04X245238             1   1     1      1     1             1            1   \n",
       "07C115980             2   2     2      2     2             2            2   \n",
       "07HN36467             2   2     2      2     2             2            2   \n",
       "...                 ...  ..   ...    ...   ...           ...          ...   \n",
       "ZZ572583              1   1     1      1     1             1            1   \n",
       "ZZ591134              1   1     1      1     1             1            1   \n",
       "ZZ696090              1   1     1      1     1             1            1   \n",
       "ZZ740108              1   1     1      1     1             1            1   \n",
       "ZZZ199957             2   2     2      2     2             2            2   \n",
       "\n",
       "             Location Description  Arrest  Domestic  ...  Ward  \\\n",
       "Case Number                                          ...         \n",
       "01G050460                       2       2         2  ...     0   \n",
       "03J493690                       2       2         2  ...     2   \n",
       "04X245238                       1       1         1  ...     1   \n",
       "07C115980                       2       2         2  ...     2   \n",
       "07HN36467                       2       2         2  ...     2   \n",
       "...                           ...     ...       ...  ...   ...   \n",
       "ZZ572583                        1       1         1  ...     1   \n",
       "ZZ591134                        1       1         1  ...     1   \n",
       "ZZ696090                        1       1         1  ...     1   \n",
       "ZZ740108                        1       1         1  ...     1   \n",
       "ZZZ199957                       2       2         2  ...     2   \n",
       "\n",
       "             Community Area  FBI Code  X Coordinate  Y Coordinate  Year  \\\n",
       "Case Number                                                               \n",
       "01G050460                 0         2             2             2     2   \n",
       "03J493690                 2         2             0             0     2   \n",
       "04X245238                 1         1             1             1     1   \n",
       "07C115980                 2         2             2             2     2   \n",
       "07HN36467                 2         2             2             2     2   \n",
       "...                     ...       ...           ...           ...   ...   \n",
       "ZZ572583                  1         1             1             1     1   \n",
       "ZZ591134                  1         1             1             1     1   \n",
       "ZZ696090                  1         1             1             1     1   \n",
       "ZZ740108                  1         1             1             1     1   \n",
       "ZZZ199957                 2         2             2             2     2   \n",
       "\n",
       "             Updated On  Latitude  Longitude  Location  \n",
       "Case Number                                             \n",
       "01G050460             2         2          2         2  \n",
       "03J493690             2         0          0         0  \n",
       "04X245238             1         1          1         1  \n",
       "07C115980             2         2          2         2  \n",
       "07HN36467             2         2          2         2  \n",
       "...                 ...       ...        ...       ...  \n",
       "ZZ572583              1         1          1         1  \n",
       "ZZ591134              1         1          1         1  \n",
       "ZZ696090              1         1          1         1  \n",
       "ZZ740108              1         1          1         1  \n",
       "ZZZ199957             2         2          2         2  \n",
       "\n",
       "[6170472 rows x 22 columns]"
      ]
     },
     "execution_count": 7,
     "metadata": {},
     "output_type": "execute_result"
    }
   ],
   "source": [
    "pd.DataFrame(Crime_data).groupby(['Case Number']).count()"
   ]
  },
  {
   "cell_type": "markdown",
   "id": "7dfa0878",
   "metadata": {},
   "source": [
    "It looks convincing, so be it! Let's drop duplicated ones by that:"
   ]
  },
  {
   "cell_type": "code",
   "execution_count": 8,
   "id": "e913a74c",
   "metadata": {},
   "outputs": [
    {
     "name": "stdout",
     "output_type": "stream",
     "text": [
      "Before drop_duplicates:  (7941282, 23)\n",
      "After drop_duplicates:  (6170473, 23)\n"
     ]
    }
   ],
   "source": [
    "print(\"Before drop_duplicates: \", Crime_data.shape)\n",
    "Crime_data.drop_duplicates(subset=['Case Number'], inplace=True)\n",
    "print(\"After drop_duplicates: \", Crime_data.shape)"
   ]
  },
  {
   "cell_type": "markdown",
   "id": "84a204a2",
   "metadata": {},
   "source": [
    "### Basic Info\n",
    "\n",
    "> In short!"
   ]
  },
  {
   "cell_type": "code",
   "execution_count": 9,
   "id": "705ecbbc",
   "metadata": {},
   "outputs": [
    {
     "data": {
      "text/html": [
       "<div>\n",
       "<style scoped>\n",
       "    .dataframe tbody tr th:only-of-type {\n",
       "        vertical-align: middle;\n",
       "    }\n",
       "\n",
       "    .dataframe tbody tr th {\n",
       "        vertical-align: top;\n",
       "    }\n",
       "\n",
       "    .dataframe thead th {\n",
       "        text-align: right;\n",
       "    }\n",
       "</style>\n",
       "<table border=\"1\" class=\"dataframe\">\n",
       "  <thead>\n",
       "    <tr style=\"text-align: right;\">\n",
       "      <th></th>\n",
       "      <th>Unnamed: 0</th>\n",
       "      <th>ID</th>\n",
       "      <th>Case Number</th>\n",
       "      <th>Date</th>\n",
       "      <th>Block</th>\n",
       "      <th>IUCR</th>\n",
       "      <th>Primary Type</th>\n",
       "      <th>Description</th>\n",
       "      <th>Location Description</th>\n",
       "      <th>Arrest</th>\n",
       "      <th>...</th>\n",
       "      <th>Ward</th>\n",
       "      <th>Community Area</th>\n",
       "      <th>FBI Code</th>\n",
       "      <th>X Coordinate</th>\n",
       "      <th>Y Coordinate</th>\n",
       "      <th>Year</th>\n",
       "      <th>Updated On</th>\n",
       "      <th>Latitude</th>\n",
       "      <th>Longitude</th>\n",
       "      <th>Location</th>\n",
       "    </tr>\n",
       "  </thead>\n",
       "  <tbody>\n",
       "    <tr>\n",
       "      <th>0</th>\n",
       "      <td>879</td>\n",
       "      <td>4786321</td>\n",
       "      <td>HM399414</td>\n",
       "      <td>01/01/2004 12:01:00 AM</td>\n",
       "      <td>082XX S COLES AVE</td>\n",
       "      <td>0840</td>\n",
       "      <td>THEFT</td>\n",
       "      <td>FINANCIAL ID THEFT: OVER $300</td>\n",
       "      <td>RESIDENCE</td>\n",
       "      <td>False</td>\n",
       "      <td>...</td>\n",
       "      <td>7.0</td>\n",
       "      <td>46.0</td>\n",
       "      <td>06</td>\n",
       "      <td>NaN</td>\n",
       "      <td>NaN</td>\n",
       "      <td>2004.0</td>\n",
       "      <td>08/17/2015 03:03:40 PM</td>\n",
       "      <td>NaN</td>\n",
       "      <td>NaN</td>\n",
       "      <td>NaN</td>\n",
       "    </tr>\n",
       "    <tr>\n",
       "      <th>1</th>\n",
       "      <td>2544</td>\n",
       "      <td>4676906</td>\n",
       "      <td>HM278933</td>\n",
       "      <td>03/01/2003 12:00:00 AM</td>\n",
       "      <td>004XX W 42ND PL</td>\n",
       "      <td>2825</td>\n",
       "      <td>OTHER OFFENSE</td>\n",
       "      <td>HARASSMENT BY TELEPHONE</td>\n",
       "      <td>RESIDENCE</td>\n",
       "      <td>False</td>\n",
       "      <td>...</td>\n",
       "      <td>11.0</td>\n",
       "      <td>61.0</td>\n",
       "      <td>26</td>\n",
       "      <td>1173974.0</td>\n",
       "      <td>1876757.0</td>\n",
       "      <td>2003.0</td>\n",
       "      <td>04/15/2016 08:55:02 AM</td>\n",
       "      <td>41.817229</td>\n",
       "      <td>-87.637328</td>\n",
       "      <td>(41.817229156, -87.637328162)</td>\n",
       "    </tr>\n",
       "    <tr>\n",
       "      <th>2</th>\n",
       "      <td>2919</td>\n",
       "      <td>4789749</td>\n",
       "      <td>HM402220</td>\n",
       "      <td>06/20/2004 11:00:00 AM</td>\n",
       "      <td>025XX N KIMBALL AVE</td>\n",
       "      <td>1752</td>\n",
       "      <td>OFFENSE INVOLVING CHILDREN</td>\n",
       "      <td>AGG CRIM SEX ABUSE FAM MEMBER</td>\n",
       "      <td>RESIDENCE</td>\n",
       "      <td>False</td>\n",
       "      <td>...</td>\n",
       "      <td>35.0</td>\n",
       "      <td>22.0</td>\n",
       "      <td>20</td>\n",
       "      <td>NaN</td>\n",
       "      <td>NaN</td>\n",
       "      <td>2004.0</td>\n",
       "      <td>08/17/2015 03:03:40 PM</td>\n",
       "      <td>NaN</td>\n",
       "      <td>NaN</td>\n",
       "      <td>NaN</td>\n",
       "    </tr>\n",
       "    <tr>\n",
       "      <th>3</th>\n",
       "      <td>2927</td>\n",
       "      <td>4789765</td>\n",
       "      <td>HM402058</td>\n",
       "      <td>12/30/2004 08:00:00 PM</td>\n",
       "      <td>045XX W MONTANA ST</td>\n",
       "      <td>0840</td>\n",
       "      <td>THEFT</td>\n",
       "      <td>FINANCIAL ID THEFT: OVER $300</td>\n",
       "      <td>OTHER</td>\n",
       "      <td>False</td>\n",
       "      <td>...</td>\n",
       "      <td>31.0</td>\n",
       "      <td>20.0</td>\n",
       "      <td>06</td>\n",
       "      <td>NaN</td>\n",
       "      <td>NaN</td>\n",
       "      <td>2004.0</td>\n",
       "      <td>08/17/2015 03:03:40 PM</td>\n",
       "      <td>NaN</td>\n",
       "      <td>NaN</td>\n",
       "      <td>NaN</td>\n",
       "    </tr>\n",
       "    <tr>\n",
       "      <th>4</th>\n",
       "      <td>3302</td>\n",
       "      <td>4677901</td>\n",
       "      <td>HM275615</td>\n",
       "      <td>05/01/2003 01:00:00 AM</td>\n",
       "      <td>111XX S NORMAL AVE</td>\n",
       "      <td>0841</td>\n",
       "      <td>THEFT</td>\n",
       "      <td>FINANCIAL ID THEFT:$300 &amp;UNDER</td>\n",
       "      <td>RESIDENCE</td>\n",
       "      <td>False</td>\n",
       "      <td>...</td>\n",
       "      <td>34.0</td>\n",
       "      <td>49.0</td>\n",
       "      <td>06</td>\n",
       "      <td>1174948.0</td>\n",
       "      <td>1831051.0</td>\n",
       "      <td>2003.0</td>\n",
       "      <td>04/15/2016 08:55:02 AM</td>\n",
       "      <td>41.691785</td>\n",
       "      <td>-87.635116</td>\n",
       "      <td>(41.691784636, -87.635115968)</td>\n",
       "    </tr>\n",
       "  </tbody>\n",
       "</table>\n",
       "<p>5 rows × 23 columns</p>\n",
       "</div>"
      ],
      "text/plain": [
       "   Unnamed: 0       ID Case Number                    Date  \\\n",
       "0         879  4786321    HM399414  01/01/2004 12:01:00 AM   \n",
       "1        2544  4676906    HM278933  03/01/2003 12:00:00 AM   \n",
       "2        2919  4789749    HM402220  06/20/2004 11:00:00 AM   \n",
       "3        2927  4789765    HM402058  12/30/2004 08:00:00 PM   \n",
       "4        3302  4677901    HM275615  05/01/2003 01:00:00 AM   \n",
       "\n",
       "                 Block  IUCR                Primary Type  \\\n",
       "0    082XX S COLES AVE  0840                       THEFT   \n",
       "1      004XX W 42ND PL  2825               OTHER OFFENSE   \n",
       "2  025XX N KIMBALL AVE  1752  OFFENSE INVOLVING CHILDREN   \n",
       "3   045XX W MONTANA ST  0840                       THEFT   \n",
       "4   111XX S NORMAL AVE  0841                       THEFT   \n",
       "\n",
       "                      Description Location Description  Arrest  ...  Ward  \\\n",
       "0   FINANCIAL ID THEFT: OVER $300            RESIDENCE   False  ...   7.0   \n",
       "1         HARASSMENT BY TELEPHONE            RESIDENCE   False  ...  11.0   \n",
       "2   AGG CRIM SEX ABUSE FAM MEMBER            RESIDENCE   False  ...  35.0   \n",
       "3   FINANCIAL ID THEFT: OVER $300                OTHER   False  ...  31.0   \n",
       "4  FINANCIAL ID THEFT:$300 &UNDER            RESIDENCE   False  ...  34.0   \n",
       "\n",
       "   Community Area  FBI Code  X Coordinate  Y Coordinate    Year  \\\n",
       "0            46.0        06           NaN           NaN  2004.0   \n",
       "1            61.0        26     1173974.0     1876757.0  2003.0   \n",
       "2            22.0        20           NaN           NaN  2004.0   \n",
       "3            20.0        06           NaN           NaN  2004.0   \n",
       "4            49.0        06     1174948.0     1831051.0  2003.0   \n",
       "\n",
       "               Updated On   Latitude  Longitude                       Location  \n",
       "0  08/17/2015 03:03:40 PM        NaN        NaN                            NaN  \n",
       "1  04/15/2016 08:55:02 AM  41.817229 -87.637328  (41.817229156, -87.637328162)  \n",
       "2  08/17/2015 03:03:40 PM        NaN        NaN                            NaN  \n",
       "3  08/17/2015 03:03:40 PM        NaN        NaN                            NaN  \n",
       "4  04/15/2016 08:55:02 AM  41.691785 -87.635116  (41.691784636, -87.635115968)  \n",
       "\n",
       "[5 rows x 23 columns]"
      ]
     },
     "execution_count": 9,
     "metadata": {},
     "output_type": "execute_result"
    }
   ],
   "source": [
    "Crime_data.head()"
   ]
  },
  {
   "cell_type": "code",
   "execution_count": 10,
   "id": "3b8b9808",
   "metadata": {},
   "outputs": [
    {
     "name": "stdout",
     "output_type": "stream",
     "text": [
      "Types of crime: \n",
      " ['THEFT' 'OTHER OFFENSE' 'OFFENSE INVOLVING CHILDREN'\n",
      " 'CRIM SEXUAL ASSAULT' 'MOTOR VEHICLE THEFT' 'SEX OFFENSE'\n",
      " 'DECEPTIVE PRACTICE' 'BATTERY' 'BURGLARY' 'WEAPONS VIOLATION'\n",
      " 'PUBLIC PEACE VIOLATION' 'NARCOTICS' 'GAMBLING' 'PROSTITUTION'\n",
      " 'LIQUOR LAW VIOLATION' 'INTERFERENCE WITH PUBLIC OFFICER'\n",
      " 'CRIMINAL DAMAGE' 'ASSAULT' 'STALKING' 'ARSON' 'CRIMINAL TRESPASS'\n",
      " 'HOMICIDE' 'ROBBERY' 'OBSCENITY' 'KIDNAPPING' 'INTIMIDATION' 'RITUALISM'\n",
      " 'DOMESTIC VIOLENCE' 'OTHER NARCOTIC VIOLATION' 'PUBLIC INDECENCY'\n",
      " 'NON-CRIMINAL' 'HUMAN TRAFFICKING' 'CONCEALED CARRY LICENSE VIOLATION'\n",
      " 'NON - CRIMINAL' 'NON-CRIMINAL (SUBJECT SPECIFIED)']\n"
     ]
    }
   ],
   "source": [
    "print(\"Types of crime: \\n\", np.array(Crime_data['Primary Type'].drop_duplicates()))"
   ]
  },
  {
   "cell_type": "code",
   "execution_count": 11,
   "id": "238aa9b8",
   "metadata": {},
   "outputs": [
    {
     "name": "stdout",
     "output_type": "stream",
     "text": [
      "Location Type: \n",
      " ['RESIDENCE' 'OTHER' 'APARTMENT' 'RESIDENCE PORCH/HALLWAY' 'GAS STATION']\n"
     ]
    }
   ],
   "source": [
    "print(\"Location Type: \\n\", np.array(Crime_data['Location Description'].drop_duplicates().head()))"
   ]
  },
  {
   "cell_type": "markdown",
   "id": "bf99da3f",
   "metadata": {},
   "source": [
    "### Data Selection"
   ]
  },
  {
   "cell_type": "markdown",
   "id": "23db39a5",
   "metadata": {},
   "source": [
    "There are three types of crime that fits the defination of stealing: THEFT, MOTOR VEHICLE THEFT, BURGLARY.\n",
    "\n",
    "So we should only keep data of them and forget about others."
   ]
  },
  {
   "cell_type": "code",
   "execution_count": 12,
   "id": "099d3907",
   "metadata": {},
   "outputs": [],
   "source": [
    "Crime_data.index = Crime_data['Case Number']"
   ]
  },
  {
   "cell_type": "code",
   "execution_count": 13,
   "id": "c538e813",
   "metadata": {},
   "outputs": [
    {
     "name": "stdout",
     "output_type": "stream",
     "text": [
      "Before the drop, it's  (6170473, 23)\n",
      "After the drop, it's  (1937260, 23)\n"
     ]
    }
   ],
   "source": [
    "print(\"Before the drop, it's \", Crime_data.shape)\n",
    "Crime_data.drop(Crime_data[ \n",
    "                    (Crime_data['Primary Type'] != \"THEFT\") &\n",
    "                    (Crime_data['Primary Type'] != \"MOTOR VEHICLE THEFT\") &\n",
    "                    (Crime_data['Primary Type'] != 'BURGLARY')\n",
    "                ].index, inplace=True, axis=0)\n",
    "print(\"After the drop, it's \", Crime_data.shape)"
   ]
  },
  {
   "cell_type": "markdown",
   "id": "06575744",
   "metadata": {},
   "source": [
    "There's nothing wrong with the process above, so we can del Crime_Data_backup to save RAM, and give it a new value for backup purposes. gc.collect() to make sure RAM stay low"
   ]
  },
  {
   "cell_type": "code",
   "execution_count": 14,
   "id": "98856d92",
   "metadata": {},
   "outputs": [
    {
     "data": {
      "text/plain": [
       "105"
      ]
     },
     "execution_count": 14,
     "metadata": {},
     "output_type": "execute_result"
    }
   ],
   "source": [
    "del Crime_Data_backup\n",
    "Crime_Data_backup = Crime_data.copy()\n",
    "gc.collect()"
   ]
  },
  {
   "cell_type": "markdown",
   "id": "7aea2157",
   "metadata": {},
   "source": [
    "### Date Processing"
   ]
  },
  {
   "cell_type": "markdown",
   "id": "b483d666",
   "metadata": {},
   "source": [
    "Conver Date Format:"
   ]
  },
  {
   "cell_type": "code",
   "execution_count": 15,
   "id": "78c2381f",
   "metadata": {},
   "outputs": [],
   "source": [
    "Crime_data.Date = pd.to_datetime(Crime_data.Date, format=\"%m/%d/%Y %I:%M:%S %p\")"
   ]
  },
  {
   "cell_type": "markdown",
   "id": "c2418187",
   "metadata": {},
   "source": [
    "### Deleting 2017"
   ]
  },
  {
   "cell_type": "markdown",
   "id": "2d5db35c",
   "metadata": {},
   "source": [
    "Turning it into df"
   ]
  },
  {
   "cell_type": "code",
   "execution_count": 16,
   "id": "6392f310",
   "metadata": {},
   "outputs": [],
   "source": [
    "df = pd.DataFrame(Crime_data)"
   ]
  },
  {
   "cell_type": "markdown",
   "id": "60cfceeb",
   "metadata": {},
   "source": [
    "There's something Wrong with the result at the year of 2017:"
   ]
  },
  {
   "cell_type": "code",
   "execution_count": 17,
   "id": "9cc96535",
   "metadata": {},
   "outputs": [
    {
     "data": {
      "text/html": [
       "<div>\n",
       "<style scoped>\n",
       "    .dataframe tbody tr th:only-of-type {\n",
       "        vertical-align: middle;\n",
       "    }\n",
       "\n",
       "    .dataframe tbody tr th {\n",
       "        vertical-align: top;\n",
       "    }\n",
       "\n",
       "    .dataframe thead th {\n",
       "        text-align: right;\n",
       "    }\n",
       "</style>\n",
       "<table border=\"1\" class=\"dataframe\">\n",
       "  <thead>\n",
       "    <tr style=\"text-align: right;\">\n",
       "      <th>Primary Type</th>\n",
       "      <th>BURGLARY</th>\n",
       "      <th>MOTOR VEHICLE THEFT</th>\n",
       "      <th>THEFT</th>\n",
       "    </tr>\n",
       "    <tr>\n",
       "      <th>Year</th>\n",
       "      <th></th>\n",
       "      <th></th>\n",
       "      <th></th>\n",
       "    </tr>\n",
       "  </thead>\n",
       "  <tbody>\n",
       "    <tr>\n",
       "      <th>2001.0</th>\n",
       "      <td>26011</td>\n",
       "      <td>27548</td>\n",
       "      <td>99247</td>\n",
       "    </tr>\n",
       "    <tr>\n",
       "      <th>2002.0</th>\n",
       "      <td>25623</td>\n",
       "      <td>25119</td>\n",
       "      <td>98263</td>\n",
       "    </tr>\n",
       "    <tr>\n",
       "      <th>2003.0</th>\n",
       "      <td>25139</td>\n",
       "      <td>22723</td>\n",
       "      <td>98526</td>\n",
       "    </tr>\n",
       "    <tr>\n",
       "      <th>2004.0</th>\n",
       "      <td>20742</td>\n",
       "      <td>18836</td>\n",
       "      <td>80741</td>\n",
       "    </tr>\n",
       "    <tr>\n",
       "      <th>2005.0</th>\n",
       "      <td>25504</td>\n",
       "      <td>22497</td>\n",
       "      <td>85685</td>\n",
       "    </tr>\n",
       "    <tr>\n",
       "      <th>2006.0</th>\n",
       "      <td>24324</td>\n",
       "      <td>21818</td>\n",
       "      <td>86238</td>\n",
       "    </tr>\n",
       "    <tr>\n",
       "      <th>2007.0</th>\n",
       "      <td>24858</td>\n",
       "      <td>18573</td>\n",
       "      <td>85155</td>\n",
       "    </tr>\n",
       "    <tr>\n",
       "      <th>2008.0</th>\n",
       "      <td>26219</td>\n",
       "      <td>18881</td>\n",
       "      <td>88430</td>\n",
       "    </tr>\n",
       "    <tr>\n",
       "      <th>2009.0</th>\n",
       "      <td>26766</td>\n",
       "      <td>15482</td>\n",
       "      <td>80972</td>\n",
       "    </tr>\n",
       "    <tr>\n",
       "      <th>2010.0</th>\n",
       "      <td>26422</td>\n",
       "      <td>19028</td>\n",
       "      <td>76749</td>\n",
       "    </tr>\n",
       "    <tr>\n",
       "      <th>2011.0</th>\n",
       "      <td>26619</td>\n",
       "      <td>19387</td>\n",
       "      <td>75141</td>\n",
       "    </tr>\n",
       "    <tr>\n",
       "      <th>2012.0</th>\n",
       "      <td>22843</td>\n",
       "      <td>16492</td>\n",
       "      <td>75454</td>\n",
       "    </tr>\n",
       "    <tr>\n",
       "      <th>2013.0</th>\n",
       "      <td>17894</td>\n",
       "      <td>12582</td>\n",
       "      <td>71524</td>\n",
       "    </tr>\n",
       "    <tr>\n",
       "      <th>2014.0</th>\n",
       "      <td>14569</td>\n",
       "      <td>9913</td>\n",
       "      <td>61530</td>\n",
       "    </tr>\n",
       "    <tr>\n",
       "      <th>2015.0</th>\n",
       "      <td>13183</td>\n",
       "      <td>10076</td>\n",
       "      <td>57292</td>\n",
       "    </tr>\n",
       "    <tr>\n",
       "      <th>2016.0</th>\n",
       "      <td>14240</td>\n",
       "      <td>11363</td>\n",
       "      <td>61167</td>\n",
       "    </tr>\n",
       "    <tr>\n",
       "      <th>2017.0</th>\n",
       "      <td>667</td>\n",
       "      <td>712</td>\n",
       "      <td>2493</td>\n",
       "    </tr>\n",
       "  </tbody>\n",
       "</table>\n",
       "</div>"
      ],
      "text/plain": [
       "Primary Type  BURGLARY  MOTOR VEHICLE THEFT  THEFT\n",
       "Year                                              \n",
       "2001.0           26011                27548  99247\n",
       "2002.0           25623                25119  98263\n",
       "2003.0           25139                22723  98526\n",
       "2004.0           20742                18836  80741\n",
       "2005.0           25504                22497  85685\n",
       "2006.0           24324                21818  86238\n",
       "2007.0           24858                18573  85155\n",
       "2008.0           26219                18881  88430\n",
       "2009.0           26766                15482  80972\n",
       "2010.0           26422                19028  76749\n",
       "2011.0           26619                19387  75141\n",
       "2012.0           22843                16492  75454\n",
       "2013.0           17894                12582  71524\n",
       "2014.0           14569                 9913  61530\n",
       "2015.0           13183                10076  57292\n",
       "2016.0           14240                11363  61167\n",
       "2017.0             667                  712   2493"
      ]
     },
     "execution_count": 17,
     "metadata": {},
     "output_type": "execute_result"
    }
   ],
   "source": [
    "EachCountByYear = pd.crosstab(Crime_data['Year'], Crime_data['Primary Type'])\n",
    "EachCountByYear"
   ]
  },
  {
   "cell_type": "code",
   "execution_count": 18,
   "id": "b8a6efa9",
   "metadata": {},
   "outputs": [
    {
     "data": {
      "image/png": "[encoded data removed]",
      "text/plain": [
       "<Figure size 432x288 with 1 Axes>"
      ]
     },
     "metadata": {
      "needs_background": "light"
     },
     "output_type": "display_data"
    }
   ],
   "source": [
    "plt.plot(EachCountByYear)\n",
    "plt.show()"
   ]
  },
  {
   "cell_type": "markdown",
   "id": "7410bd4e",
   "metadata": {},
   "source": [
    "The reason is the data only stops at 2017.1.18:"
   ]
  },
  {
   "cell_type": "code",
   "execution_count": 19,
   "id": "278ccae0",
   "metadata": {},
   "outputs": [
    {
     "data": {
      "text/html": [
       "<div>\n",
       "<style scoped>\n",
       "    .dataframe tbody tr th:only-of-type {\n",
       "        vertical-align: middle;\n",
       "    }\n",
       "\n",
       "    .dataframe tbody tr th {\n",
       "        vertical-align: top;\n",
       "    }\n",
       "\n",
       "    .dataframe thead th {\n",
       "        text-align: right;\n",
       "    }\n",
       "</style>\n",
       "<table border=\"1\" class=\"dataframe\">\n",
       "  <thead>\n",
       "    <tr style=\"text-align: right;\">\n",
       "      <th></th>\n",
       "      <th>Unnamed: 0</th>\n",
       "      <th>ID</th>\n",
       "      <th>Case Number</th>\n",
       "      <th>Date</th>\n",
       "      <th>Block</th>\n",
       "      <th>IUCR</th>\n",
       "      <th>Primary Type</th>\n",
       "      <th>Description</th>\n",
       "      <th>Location Description</th>\n",
       "      <th>Arrest</th>\n",
       "      <th>...</th>\n",
       "      <th>Ward</th>\n",
       "      <th>Community Area</th>\n",
       "      <th>FBI Code</th>\n",
       "      <th>X Coordinate</th>\n",
       "      <th>Y Coordinate</th>\n",
       "      <th>Year</th>\n",
       "      <th>Updated On</th>\n",
       "      <th>Latitude</th>\n",
       "      <th>Longitude</th>\n",
       "      <th>Location</th>\n",
       "    </tr>\n",
       "    <tr>\n",
       "      <th>Case Number</th>\n",
       "      <th></th>\n",
       "      <th></th>\n",
       "      <th></th>\n",
       "      <th></th>\n",
       "      <th></th>\n",
       "      <th></th>\n",
       "      <th></th>\n",
       "      <th></th>\n",
       "      <th></th>\n",
       "      <th></th>\n",
       "      <th></th>\n",
       "      <th></th>\n",
       "      <th></th>\n",
       "      <th></th>\n",
       "      <th></th>\n",
       "      <th></th>\n",
       "      <th></th>\n",
       "      <th></th>\n",
       "      <th></th>\n",
       "      <th></th>\n",
       "      <th></th>\n",
       "    </tr>\n",
       "  </thead>\n",
       "  <tbody>\n",
       "    <tr>\n",
       "      <th>JA121230</th>\n",
       "      <td>6235819</td>\n",
       "      <td>10820658</td>\n",
       "      <td>JA121230</td>\n",
       "      <td>2017-01-18 23:00:00</td>\n",
       "      <td>015XX N MILWAUKEE AVE</td>\n",
       "      <td>0820</td>\n",
       "      <td>THEFT</td>\n",
       "      <td>$500 AND UNDER</td>\n",
       "      <td>STREET</td>\n",
       "      <td>False</td>\n",
       "      <td>...</td>\n",
       "      <td>1.0</td>\n",
       "      <td>24.0</td>\n",
       "      <td>06</td>\n",
       "      <td>NaN</td>\n",
       "      <td>NaN</td>\n",
       "      <td>2017.0</td>\n",
       "      <td>01/25/2017 03:54:12 PM</td>\n",
       "      <td>NaN</td>\n",
       "      <td>NaN</td>\n",
       "      <td>NaN</td>\n",
       "    </tr>\n",
       "    <tr>\n",
       "      <th>JA121174</th>\n",
       "      <td>6235965</td>\n",
       "      <td>10822204</td>\n",
       "      <td>JA121174</td>\n",
       "      <td>2017-01-18 23:00:00</td>\n",
       "      <td>003XX N CICERO AVE</td>\n",
       "      <td>0820</td>\n",
       "      <td>THEFT</td>\n",
       "      <td>$500 AND UNDER</td>\n",
       "      <td>CHURCH/SYNAGOGUE/PLACE OF WORSHIP</td>\n",
       "      <td>False</td>\n",
       "      <td>...</td>\n",
       "      <td>28.0</td>\n",
       "      <td>25.0</td>\n",
       "      <td>06</td>\n",
       "      <td>NaN</td>\n",
       "      <td>NaN</td>\n",
       "      <td>2017.0</td>\n",
       "      <td>01/25/2017 03:54:12 PM</td>\n",
       "      <td>NaN</td>\n",
       "      <td>NaN</td>\n",
       "      <td>NaN</td>\n",
       "    </tr>\n",
       "    <tr>\n",
       "      <th>JA121150</th>\n",
       "      <td>6235810</td>\n",
       "      <td>10820636</td>\n",
       "      <td>JA121150</td>\n",
       "      <td>2017-01-18 22:52:00</td>\n",
       "      <td>065XX S DR MARTIN LUTHER KING JR DR</td>\n",
       "      <td>0870</td>\n",
       "      <td>THEFT</td>\n",
       "      <td>POCKET-PICKING</td>\n",
       "      <td>CTA BUS</td>\n",
       "      <td>False</td>\n",
       "      <td>...</td>\n",
       "      <td>20.0</td>\n",
       "      <td>69.0</td>\n",
       "      <td>06</td>\n",
       "      <td>NaN</td>\n",
       "      <td>NaN</td>\n",
       "      <td>2017.0</td>\n",
       "      <td>01/25/2017 03:54:12 PM</td>\n",
       "      <td>NaN</td>\n",
       "      <td>NaN</td>\n",
       "      <td>NaN</td>\n",
       "    </tr>\n",
       "    <tr>\n",
       "      <th>JA121155</th>\n",
       "      <td>6235840</td>\n",
       "      <td>10820729</td>\n",
       "      <td>JA121155</td>\n",
       "      <td>2017-01-18 22:40:00</td>\n",
       "      <td>003XX E OHIO ST</td>\n",
       "      <td>0810</td>\n",
       "      <td>THEFT</td>\n",
       "      <td>OVER $500</td>\n",
       "      <td>SIDEWALK</td>\n",
       "      <td>False</td>\n",
       "      <td>...</td>\n",
       "      <td>42.0</td>\n",
       "      <td>8.0</td>\n",
       "      <td>06</td>\n",
       "      <td>NaN</td>\n",
       "      <td>NaN</td>\n",
       "      <td>2017.0</td>\n",
       "      <td>01/25/2017 03:54:12 PM</td>\n",
       "      <td>NaN</td>\n",
       "      <td>NaN</td>\n",
       "      <td>NaN</td>\n",
       "    </tr>\n",
       "    <tr>\n",
       "      <th>JA121963</th>\n",
       "      <td>6235929</td>\n",
       "      <td>10821338</td>\n",
       "      <td>JA121963</td>\n",
       "      <td>2017-01-18 22:30:00</td>\n",
       "      <td>062XX S WESTERN AVE</td>\n",
       "      <td>0620</td>\n",
       "      <td>BURGLARY</td>\n",
       "      <td>UNLAWFUL ENTRY</td>\n",
       "      <td>APARTMENT</td>\n",
       "      <td>False</td>\n",
       "      <td>...</td>\n",
       "      <td>15.0</td>\n",
       "      <td>66.0</td>\n",
       "      <td>05</td>\n",
       "      <td>NaN</td>\n",
       "      <td>NaN</td>\n",
       "      <td>2017.0</td>\n",
       "      <td>01/25/2017 03:54:12 PM</td>\n",
       "      <td>NaN</td>\n",
       "      <td>NaN</td>\n",
       "      <td>NaN</td>\n",
       "    </tr>\n",
       "  </tbody>\n",
       "</table>\n",
       "<p>5 rows × 23 columns</p>\n",
       "</div>"
      ],
      "text/plain": [
       "             Unnamed: 0        ID Case Number                Date  \\\n",
       "Case Number                                                         \n",
       "JA121230        6235819  10820658    JA121230 2017-01-18 23:00:00   \n",
       "JA121174        6235965  10822204    JA121174 2017-01-18 23:00:00   \n",
       "JA121150        6235810  10820636    JA121150 2017-01-18 22:52:00   \n",
       "JA121155        6235840  10820729    JA121155 2017-01-18 22:40:00   \n",
       "JA121963        6235929  10821338    JA121963 2017-01-18 22:30:00   \n",
       "\n",
       "                                           Block  IUCR Primary Type  \\\n",
       "Case Number                                                           \n",
       "JA121230                   015XX N MILWAUKEE AVE  0820        THEFT   \n",
       "JA121174                      003XX N CICERO AVE  0820        THEFT   \n",
       "JA121150     065XX S DR MARTIN LUTHER KING JR DR  0870        THEFT   \n",
       "JA121155                         003XX E OHIO ST  0810        THEFT   \n",
       "JA121963                     062XX S WESTERN AVE  0620     BURGLARY   \n",
       "\n",
       "                Description               Location Description  Arrest  ...  \\\n",
       "Case Number                                                             ...   \n",
       "JA121230     $500 AND UNDER                             STREET   False  ...   \n",
       "JA121174     $500 AND UNDER  CHURCH/SYNAGOGUE/PLACE OF WORSHIP   False  ...   \n",
       "JA121150     POCKET-PICKING                            CTA BUS   False  ...   \n",
       "JA121155          OVER $500                           SIDEWALK   False  ...   \n",
       "JA121963     UNLAWFUL ENTRY                          APARTMENT   False  ...   \n",
       "\n",
       "             Ward  Community Area  FBI Code  X Coordinate  Y Coordinate  \\\n",
       "Case Number                                                               \n",
       "JA121230      1.0            24.0        06           NaN           NaN   \n",
       "JA121174     28.0            25.0        06           NaN           NaN   \n",
       "JA121150     20.0            69.0        06           NaN           NaN   \n",
       "JA121155     42.0             8.0        06           NaN           NaN   \n",
       "JA121963     15.0            66.0        05           NaN           NaN   \n",
       "\n",
       "               Year              Updated On Latitude  Longitude Location  \n",
       "Case Number                                                               \n",
       "JA121230     2017.0  01/25/2017 03:54:12 PM      NaN        NaN      NaN  \n",
       "JA121174     2017.0  01/25/2017 03:54:12 PM      NaN        NaN      NaN  \n",
       "JA121150     2017.0  01/25/2017 03:54:12 PM      NaN        NaN      NaN  \n",
       "JA121155     2017.0  01/25/2017 03:54:12 PM      NaN        NaN      NaN  \n",
       "JA121963     2017.0  01/25/2017 03:54:12 PM      NaN        NaN      NaN  \n",
       "\n",
       "[5 rows x 23 columns]"
      ]
     },
     "execution_count": 19,
     "metadata": {},
     "output_type": "execute_result"
    }
   ],
   "source": [
    "theBeginningOf2017 = datetime(2017, 1, 1)\n",
    "df[df['Date'] >= theBeginningOf2017].sort_values(['Date'], ascending=False).head()"
   ]
  },
  {
   "cell_type": "markdown",
   "id": "95b85f13",
   "metadata": {},
   "source": [
    "So for the sake of convenience, we should just delete data in 2017"
   ]
  },
  {
   "cell_type": "code",
   "execution_count": 20,
   "id": "43c9b65b",
   "metadata": {},
   "outputs": [
    {
     "name": "stdout",
     "output_type": "stream",
     "text": [
      "Before deleting data in 2017:  (1937260, 23)\n",
      "After deleting data in 2017:  (1933388, 23)\n"
     ]
    }
   ],
   "source": [
    "print(\"Before deleting data in 2017: \", Crime_data.shape)\n",
    "Crime_data.drop(df[df['Date'] >= theBeginningOf2017].index, inplace=True, axis=0)\n",
    "print(\"After deleting data in 2017: \", Crime_data.shape)"
   ]
  },
  {
   "cell_type": "markdown",
   "id": "e56abc9f",
   "metadata": {},
   "source": [
    "Also remember to backup and clean the RAM"
   ]
  },
  {
   "cell_type": "code",
   "execution_count": 23,
   "id": "dc43cd82",
   "metadata": {},
   "outputs": [
    {
     "data": {
      "text/plain": [
       "981"
      ]
     },
     "execution_count": 23,
     "metadata": {},
     "output_type": "execute_result"
    }
   ],
   "source": [
    "Crime_Data_backup = Crime_data.copy()\n",
    "gc.collect()"
   ]
  },
  {
   "cell_type": "markdown",
   "id": "4ed6d100",
   "metadata": {},
   "source": [
    "### Handling NaN and Missing Value"
   ]
  },
  {
   "cell_type": "markdown",
   "id": "4b6f8b27",
   "metadata": {},
   "source": [
    "There are missing values and null values:"
   ]
  },
  {
   "cell_type": "code",
   "execution_count": 91,
   "id": "256a5c5c",
   "metadata": {},
   "outputs": [
    {
     "data": {
      "text/plain": [
       "True"
      ]
     },
     "execution_count": 91,
     "metadata": {},
     "output_type": "execute_result"
    }
   ],
   "source": [
    "np.any(df.isnull())"
   ]
  },
  {
   "cell_type": "code",
   "execution_count": 94,
   "id": "2f56ff20",
   "metadata": {},
   "outputs": [
    {
     "data": {
      "text/plain": [
       "True"
      ]
     },
     "execution_count": 94,
     "metadata": {},
     "output_type": "execute_result"
    }
   ],
   "source": [
    "np.any(df['X Coordinate'] == 0)"
   ]
  },
  {
   "cell_type": "code",
   "execution_count": 96,
   "id": "a6ad8b07",
   "metadata": {},
   "outputs": [
    {
     "data": {
      "text/plain": [
       "True"
      ]
     },
     "execution_count": 96,
     "metadata": {},
     "output_type": "execute_result"
    }
   ],
   "source": [
    "np.any(df['Y Coordinate'] == 0)"
   ]
  },
  {
   "cell_type": "markdown",
   "id": "d3757120",
   "metadata": {},
   "source": [
    "So we need to deal with them in a different DF, aka, Crime_data_no_NaN"
   ]
  },
  {
   "cell_type": "code",
   "execution_count": 100,
   "id": "416c5ab6",
   "metadata": {},
   "outputs": [
    {
     "name": "stdout",
     "output_type": "stream",
     "text": [
      "Before we drop NaN:  (1933388, 23)\n",
      "After we drop NaN:  (1723723, 23)\n"
     ]
    }
   ],
   "source": [
    "Crime_data_no_NaN = Crime_data.copy()\n",
    "Crime_data_no_NaN[['X Coordinate', 'Y Coordinate']] = Crime_data_no_NaN[['X Coordinate', 'Y Coordinate']].replace(0, np.NaN)\n",
    "print(\"Before we drop NaN: \", Crime_data_no_NaN.shape)\n",
    "Crime_data_no_NaN.dropna(inplace=True)\n",
    "print(\"After we drop NaN: \", Crime_data_no_NaN.shape)"
   ]
  },
  {
   "cell_type": "markdown",
   "id": "97622b43",
   "metadata": {},
   "source": [
    "## Data Analysis and Visualization"
   ]
  },
  {
   "cell_type": "markdown",
   "id": "42961ed2",
   "metadata": {},
   "source": [
    "### Percentages"
   ]
  },
  {
   "cell_type": "markdown",
   "id": "82fe4ef7",
   "metadata": {},
   "source": [
    "- Percenrages of three in total"
   ]
  },
  {
   "cell_type": "code",
   "execution_count": 21,
   "id": "6dcb4850",
   "metadata": {
    "scrolled": true
   },
   "outputs": [
    {
     "data": {
      "text/plain": [
       "<AxesSubplot:ylabel='Case Number'>"
      ]
     },
     "execution_count": 21,
     "metadata": {},
     "output_type": "execute_result"
    },
    {
     "data": {
      "image/png": "[encoded data removed]",
      "text/plain": [
       "<Figure size 432x288 with 1 Axes>"
      ]
     },
     "metadata": {},
     "output_type": "display_data"
    }
   ],
   "source": [
    "countTotal = df.groupby(['Primary Type']).count()['Case Number']\n",
    "countSum = countTotal.sum()\n",
    "percentageTotal = countTotal.div(countSum, axis=0)\n",
    "percentageTotal.plot(kind='pie')"
   ]
  },
  {
   "cell_type": "markdown",
   "id": "dcad79d7",
   "metadata": {},
   "source": [
    "- Percentages of three types of crimes each year"
   ]
  },
  {
   "cell_type": "code",
   "execution_count": 22,
   "id": "dba3b0b2",
   "metadata": {},
   "outputs": [
    {
     "data": {
      "text/plain": [
       "<AxesSubplot:xlabel='Year'>"
      ]
     },
     "execution_count": 22,
     "metadata": {},
     "output_type": "execute_result"
    },
    {
     "data": {
      "image/png": "[encoded data removed]",
      "text/plain": [
       "<Figure size 432x288 with 1 Axes>"
      ]
     },
     "metadata": {
      "needs_background": "light"
     },
     "output_type": "display_data"
    }
   ],
   "source": [
    "EachCountByYear = pd.crosstab(Crime_data['Year'], Crime_data['Primary Type'])\n",
    "sumOfEachYear = EachCountByYear.sum(axis=1)\n",
    "percentagePerYear = EachCountByYear.div(sumOfEachYear, axis=0)\n",
    "percentagePerYear.plot(kind='bar', stacked=True)"
   ]
  },
  {
   "cell_type": "markdown",
   "id": "104d097c",
   "metadata": {},
   "source": [
    "### Trends"
   ]
  },
  {
   "cell_type": "code",
   "execution_count": 37,
   "id": "ad94bf45",
   "metadata": {},
   "outputs": [
    {
     "data": {
      "text/html": [
       "<div>\n",
       "<style scoped>\n",
       "    .dataframe tbody tr th:only-of-type {\n",
       "        vertical-align: middle;\n",
       "    }\n",
       "\n",
       "    .dataframe tbody tr th {\n",
       "        vertical-align: top;\n",
       "    }\n",
       "\n",
       "    .dataframe thead th {\n",
       "        text-align: right;\n",
       "    }\n",
       "</style>\n",
       "<table border=\"1\" class=\"dataframe\">\n",
       "  <thead>\n",
       "    <tr style=\"text-align: right;\">\n",
       "      <th>Primary Type</th>\n",
       "      <th>BURGLARY</th>\n",
       "      <th>MOTOR VEHICLE THEFT</th>\n",
       "      <th>THEFT</th>\n",
       "    </tr>\n",
       "    <tr>\n",
       "      <th>Year</th>\n",
       "      <th></th>\n",
       "      <th></th>\n",
       "      <th></th>\n",
       "    </tr>\n",
       "  </thead>\n",
       "  <tbody>\n",
       "    <tr>\n",
       "      <th>2001.0</th>\n",
       "      <td>26011</td>\n",
       "      <td>27548</td>\n",
       "      <td>99247</td>\n",
       "    </tr>\n",
       "    <tr>\n",
       "      <th>2002.0</th>\n",
       "      <td>25623</td>\n",
       "      <td>25119</td>\n",
       "      <td>98263</td>\n",
       "    </tr>\n",
       "    <tr>\n",
       "      <th>2003.0</th>\n",
       "      <td>25139</td>\n",
       "      <td>22723</td>\n",
       "      <td>98526</td>\n",
       "    </tr>\n",
       "    <tr>\n",
       "      <th>2004.0</th>\n",
       "      <td>20742</td>\n",
       "      <td>18836</td>\n",
       "      <td>80741</td>\n",
       "    </tr>\n",
       "    <tr>\n",
       "      <th>2005.0</th>\n",
       "      <td>25504</td>\n",
       "      <td>22497</td>\n",
       "      <td>85685</td>\n",
       "    </tr>\n",
       "    <tr>\n",
       "      <th>2006.0</th>\n",
       "      <td>24324</td>\n",
       "      <td>21818</td>\n",
       "      <td>86238</td>\n",
       "    </tr>\n",
       "    <tr>\n",
       "      <th>2007.0</th>\n",
       "      <td>24858</td>\n",
       "      <td>18573</td>\n",
       "      <td>85155</td>\n",
       "    </tr>\n",
       "    <tr>\n",
       "      <th>2008.0</th>\n",
       "      <td>26219</td>\n",
       "      <td>18881</td>\n",
       "      <td>88430</td>\n",
       "    </tr>\n",
       "    <tr>\n",
       "      <th>2009.0</th>\n",
       "      <td>26766</td>\n",
       "      <td>15482</td>\n",
       "      <td>80972</td>\n",
       "    </tr>\n",
       "    <tr>\n",
       "      <th>2010.0</th>\n",
       "      <td>26422</td>\n",
       "      <td>19028</td>\n",
       "      <td>76749</td>\n",
       "    </tr>\n",
       "    <tr>\n",
       "      <th>2011.0</th>\n",
       "      <td>26619</td>\n",
       "      <td>19387</td>\n",
       "      <td>75141</td>\n",
       "    </tr>\n",
       "    <tr>\n",
       "      <th>2012.0</th>\n",
       "      <td>22843</td>\n",
       "      <td>16492</td>\n",
       "      <td>75454</td>\n",
       "    </tr>\n",
       "    <tr>\n",
       "      <th>2013.0</th>\n",
       "      <td>17894</td>\n",
       "      <td>12582</td>\n",
       "      <td>71524</td>\n",
       "    </tr>\n",
       "    <tr>\n",
       "      <th>2014.0</th>\n",
       "      <td>14569</td>\n",
       "      <td>9913</td>\n",
       "      <td>61530</td>\n",
       "    </tr>\n",
       "    <tr>\n",
       "      <th>2015.0</th>\n",
       "      <td>13183</td>\n",
       "      <td>10076</td>\n",
       "      <td>57292</td>\n",
       "    </tr>\n",
       "    <tr>\n",
       "      <th>2016.0</th>\n",
       "      <td>14240</td>\n",
       "      <td>11363</td>\n",
       "      <td>61167</td>\n",
       "    </tr>\n",
       "  </tbody>\n",
       "</table>\n",
       "</div>"
      ],
      "text/plain": [
       "Primary Type  BURGLARY  MOTOR VEHICLE THEFT  THEFT\n",
       "Year                                              \n",
       "2001.0           26011                27548  99247\n",
       "2002.0           25623                25119  98263\n",
       "2003.0           25139                22723  98526\n",
       "2004.0           20742                18836  80741\n",
       "2005.0           25504                22497  85685\n",
       "2006.0           24324                21818  86238\n",
       "2007.0           24858                18573  85155\n",
       "2008.0           26219                18881  88430\n",
       "2009.0           26766                15482  80972\n",
       "2010.0           26422                19028  76749\n",
       "2011.0           26619                19387  75141\n",
       "2012.0           22843                16492  75454\n",
       "2013.0           17894                12582  71524\n",
       "2014.0           14569                 9913  61530\n",
       "2015.0           13183                10076  57292\n",
       "2016.0           14240                11363  61167"
      ]
     },
     "execution_count": 37,
     "metadata": {},
     "output_type": "execute_result"
    }
   ],
   "source": [
    "EachCountByYear"
   ]
  },
  {
   "cell_type": "code",
   "execution_count": 43,
   "id": "f4206ff8",
   "metadata": {},
   "outputs": [
    {
     "data": {
      "image/png": "[encoded data removed]",
      "text/plain": [
       "<Figure size 432x288 with 1 Axes>"
      ]
     },
     "metadata": {
      "needs_background": "light"
     },
     "output_type": "display_data"
    }
   ],
   "source": [
    "plt.plot(EachCountByYear)\n",
    "plt.plot(sumOfEachYear)\n",
    "plt.ylabel('Crime Count')\n",
    "plt.legend(['BURGLARY', 'MOTOR VEHICLE THEFT', 'THEFT', 'Sum'])\n",
    "plt.show()"
   ]
  },
  {
   "cell_type": "markdown",
   "id": "185f3848",
   "metadata": {},
   "source": [
    "### Paint the Map with Crime Data"
   ]
  },
  {
   "cell_type": "code",
   "execution_count": 109,
   "id": "d4c7b793",
   "metadata": {},
   "outputs": [
    {
     "data": {
      "image/png": "[encoded data removed]",
      "text/plain": [
       "<Figure size 432x288 with 1 Axes>"
      ]
     },
     "metadata": {
      "needs_background": "light"
     },
     "output_type": "display_data"
    }
   ],
   "source": [
    "plt.scatter(x=Crime_data_no_NaN['X Coordinate'], y=Crime_data_no_NaN['Y Coordinate'], c=Crime_data_no_NaN['District'])\n",
    "plt.show()"
   ]
  }
 ],
 "metadata": {
  "kernelspec": {
   "display_name": "Python 3",
   "language": "python",
   "name": "python3"
  },
  "language_info": {
   "codemirror_mode": {
    "name": "ipython",
    "version": 3
   },
   "file_extension": ".py",
   "mimetype": "text/x-python",
   "name": "python",
   "nbconvert_exporter": "python",
   "pygments_lexer": "ipython3",
   "version": "3.8.8"
  }
 },
 "nbformat": 4,
 "nbformat_minor": 5
}
